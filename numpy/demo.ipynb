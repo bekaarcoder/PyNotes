{
 "metadata": {
  "language_info": {
   "codemirror_mode": {
    "name": "ipython",
    "version": 3
   },
   "file_extension": ".py",
   "mimetype": "text/x-python",
   "name": "python",
   "nbconvert_exporter": "python",
   "pygments_lexer": "ipython3",
   "version": "3.8.8"
  },
  "orig_nbformat": 4,
  "kernelspec": {
   "name": "python3",
   "display_name": "Python 3.8.8 64-bit ('base': conda)"
  },
  "interpreter": {
   "hash": "9161589c03f79ee8f44dc63a9f12af7430698781a52da1375abbf686abf58478"
  }
 },
 "nbformat": 4,
 "nbformat_minor": 2,
 "cells": [
  {
   "source": [
    "### Numpy Arrays: Creating Arrays"
   ],
   "cell_type": "markdown",
   "metadata": {}
  },
  {
   "cell_type": "code",
   "execution_count": 3,
   "metadata": {},
   "outputs": [
    {
     "output_type": "execute_result",
     "data": {
      "text/plain": [
       "array([1, 2, 3, 4, 5])"
      ]
     },
     "metadata": {},
     "execution_count": 3
    }
   ],
   "source": [
    "import numpy as np\n",
    "\n",
    "list_1 = [1, 2, 3, 4, 5]\n",
    "list_arr_1 = np.array(list_1)\n",
    "list_arr_1"
   ]
  },
  {
   "cell_type": "code",
   "execution_count": 5,
   "metadata": {},
   "outputs": [
    {
     "output_type": "execute_result",
     "data": {
      "text/plain": [
       "array([[ 1,  2,  3,  4,  5],\n",
       "       [11, 22, 33, 44, 55]])"
      ]
     },
     "metadata": {},
     "execution_count": 5
    }
   ],
   "source": [
    "list_2 = [11, 22, 33, 44, 55]\n",
    "lists = [list_1, list_2]\n",
    "\n",
    "list_arr_2 = np.array(lists)\n",
    "list_arr_2"
   ]
  },
  {
   "cell_type": "code",
   "execution_count": 6,
   "metadata": {},
   "outputs": [
    {
     "output_type": "execute_result",
     "data": {
      "text/plain": [
       "(2, 5)"
      ]
     },
     "metadata": {},
     "execution_count": 6
    }
   ],
   "source": [
    "list_arr_2.shape"
   ]
  },
  {
   "cell_type": "code",
   "execution_count": 7,
   "metadata": {},
   "outputs": [
    {
     "output_type": "execute_result",
     "data": {
      "text/plain": [
       "dtype('int32')"
      ]
     },
     "metadata": {},
     "execution_count": 7
    }
   ],
   "source": [
    "list_arr_2.dtype"
   ]
  },
  {
   "cell_type": "code",
   "execution_count": 8,
   "metadata": {},
   "outputs": [
    {
     "output_type": "execute_result",
     "data": {
      "text/plain": [
       "array([0., 0., 0., 0., 0.])"
      ]
     },
     "metadata": {},
     "execution_count": 8
    }
   ],
   "source": [
    "np.zeros(5)"
   ]
  },
  {
   "cell_type": "code",
   "execution_count": 9,
   "metadata": {},
   "outputs": [
    {
     "output_type": "execute_result",
     "data": {
      "text/plain": [
       "array([[1., 1., 1., 1., 1.],\n",
       "       [1., 1., 1., 1., 1.],\n",
       "       [1., 1., 1., 1., 1.],\n",
       "       [1., 1., 1., 1., 1.],\n",
       "       [1., 1., 1., 1., 1.]])"
      ]
     },
     "metadata": {},
     "execution_count": 9
    }
   ],
   "source": [
    "np.ones([5,5])"
   ]
  },
  {
   "cell_type": "code",
   "execution_count": 10,
   "metadata": {},
   "outputs": [
    {
     "output_type": "execute_result",
     "data": {
      "text/plain": [
       "array([0., 0., 0., 0., 0.])"
      ]
     },
     "metadata": {},
     "execution_count": 10
    }
   ],
   "source": [
    "np.empty(5)"
   ]
  },
  {
   "cell_type": "code",
   "execution_count": 11,
   "metadata": {},
   "outputs": [
    {
     "output_type": "execute_result",
     "data": {
      "text/plain": [
       "array([[1., 0., 0., 0., 0.],\n",
       "       [0., 1., 0., 0., 0.],\n",
       "       [0., 0., 1., 0., 0.],\n",
       "       [0., 0., 0., 1., 0.],\n",
       "       [0., 0., 0., 0., 1.]])"
      ]
     },
     "metadata": {},
     "execution_count": 11
    }
   ],
   "source": [
    "np.eye(5)"
   ]
  },
  {
   "cell_type": "code",
   "execution_count": 12,
   "metadata": {},
   "outputs": [
    {
     "output_type": "execute_result",
     "data": {
      "text/plain": [
       "array([0, 1, 2, 3, 4])"
      ]
     },
     "metadata": {},
     "execution_count": 12
    }
   ],
   "source": [
    "np.arange(5)"
   ]
  },
  {
   "cell_type": "code",
   "execution_count": 14,
   "metadata": {},
   "outputs": [
    {
     "output_type": "execute_result",
     "data": {
      "text/plain": [
       "array([ 5,  7,  9, 11, 13, 15, 17, 19])"
      ]
     },
     "metadata": {},
     "execution_count": 14
    }
   ],
   "source": [
    "np.arange(5, 20, 2)"
   ]
  },
  {
   "source": [
    "### Using arrays and scalars"
   ],
   "cell_type": "markdown",
   "metadata": {}
  },
  {
   "cell_type": "code",
   "execution_count": 17,
   "metadata": {},
   "outputs": [
    {
     "output_type": "execute_result",
     "data": {
      "text/plain": [
       "array([[ 1,  2,  3,  4],\n",
       "       [ 8,  9, 10, 11]])"
      ]
     },
     "metadata": {},
     "execution_count": 17
    }
   ],
   "source": [
    "arr1 = np.array([[1, 2, 3, 4], [8, 9, 10, 11]])\n",
    "arr1"
   ]
  },
  {
   "cell_type": "code",
   "execution_count": 18,
   "metadata": {},
   "outputs": [
    {
     "output_type": "execute_result",
     "data": {
      "text/plain": [
       "array([[  1,   4,   9,  16],\n",
       "       [ 64,  81, 100, 121]])"
      ]
     },
     "metadata": {},
     "execution_count": 18
    }
   ],
   "source": [
    "arr1 * arr1"
   ]
  },
  {
   "cell_type": "code",
   "execution_count": 19,
   "metadata": {},
   "outputs": [
    {
     "output_type": "execute_result",
     "data": {
      "text/plain": [
       "array([[0, 0, 0, 0],\n",
       "       [0, 0, 0, 0]])"
      ]
     },
     "metadata": {},
     "execution_count": 19
    }
   ],
   "source": [
    "arr1 - arr1"
   ]
  },
  {
   "cell_type": "code",
   "execution_count": 20,
   "metadata": {},
   "outputs": [
    {
     "output_type": "execute_result",
     "data": {
      "text/plain": [
       "array([[ 2,  4,  6,  8],\n",
       "       [16, 18, 20, 22]])"
      ]
     },
     "metadata": {},
     "execution_count": 20
    }
   ],
   "source": [
    "arr1 + arr1"
   ]
  },
  {
   "cell_type": "code",
   "execution_count": 21,
   "metadata": {},
   "outputs": [
    {
     "output_type": "execute_result",
     "data": {
      "text/plain": [
       "array([[1.        , 0.5       , 0.33333333, 0.25      ],\n",
       "       [0.125     , 0.11111111, 0.1       , 0.09090909]])"
      ]
     },
     "metadata": {},
     "execution_count": 21
    }
   ],
   "source": [
    "1 / arr1"
   ]
  },
  {
   "cell_type": "code",
   "execution_count": 22,
   "metadata": {},
   "outputs": [
    {
     "output_type": "execute_result",
     "data": {
      "text/plain": [
       "array([[   1,    8,   27,   64],\n",
       "       [ 512,  729, 1000, 1331]], dtype=int32)"
      ]
     },
     "metadata": {},
     "execution_count": 22
    }
   ],
   "source": [
    "arr1 ** 3"
   ]
  },
  {
   "source": [
    "## Indexing Arrays"
   ],
   "cell_type": "markdown",
   "metadata": {}
  },
  {
   "cell_type": "code",
   "execution_count": 24,
   "metadata": {},
   "outputs": [
    {
     "output_type": "execute_result",
     "data": {
      "text/plain": [
       "array([ 0,  1,  2,  3,  4,  5,  6,  7,  8,  9, 10])"
      ]
     },
     "metadata": {},
     "execution_count": 24
    }
   ],
   "source": [
    "arr = np.arange(0, 11)\n",
    "arr"
   ]
  },
  {
   "cell_type": "code",
   "execution_count": 25,
   "metadata": {},
   "outputs": [
    {
     "output_type": "execute_result",
     "data": {
      "text/plain": [
       "8"
      ]
     },
     "metadata": {},
     "execution_count": 25
    }
   ],
   "source": [
    "arr[8]"
   ]
  },
  {
   "cell_type": "code",
   "execution_count": 26,
   "metadata": {},
   "outputs": [
    {
     "output_type": "execute_result",
     "data": {
      "text/plain": [
       "array([1, 2, 3, 4])"
      ]
     },
     "metadata": {},
     "execution_count": 26
    }
   ],
   "source": [
    "arr[1:5]"
   ]
  },
  {
   "cell_type": "code",
   "execution_count": 28,
   "metadata": {},
   "outputs": [
    {
     "output_type": "execute_result",
     "data": {
      "text/plain": [
       "array([99, 99, 99, 99, 99,  5,  6,  7,  8,  9, 10])"
      ]
     },
     "metadata": {},
     "execution_count": 28
    }
   ],
   "source": [
    "arr[0:5] = 99\n",
    "arr"
   ]
  },
  {
   "cell_type": "code",
   "execution_count": 31,
   "metadata": {},
   "outputs": [
    {
     "output_type": "execute_result",
     "data": {
      "text/plain": [
       "array([ 0,  1,  2,  3,  4,  5,  6,  7,  8,  9, 10])"
      ]
     },
     "metadata": {},
     "execution_count": 31
    }
   ],
   "source": [
    "arr = np.arange(0, 11)\n",
    "arr"
   ]
  },
  {
   "cell_type": "code",
   "execution_count": 32,
   "metadata": {},
   "outputs": [
    {
     "output_type": "execute_result",
     "data": {
      "text/plain": [
       "array([0, 1, 2, 3, 4, 5])"
      ]
     },
     "metadata": {},
     "execution_count": 32
    }
   ],
   "source": [
    "slice_of_arr = arr[0:6]\n",
    "slice_of_arr"
   ]
  },
  {
   "cell_type": "code",
   "execution_count": 33,
   "metadata": {},
   "outputs": [
    {
     "output_type": "execute_result",
     "data": {
      "text/plain": [
       "array([99, 99, 99, 99, 99, 99])"
      ]
     },
     "metadata": {},
     "execution_count": 33
    }
   ],
   "source": [
    "slice_of_arr[:] = 99\n",
    "slice_of_arr"
   ]
  },
  {
   "cell_type": "code",
   "execution_count": 34,
   "metadata": {},
   "outputs": [
    {
     "output_type": "execute_result",
     "data": {
      "text/plain": [
       "array([99, 99, 99, 99, 99, 99,  6,  7,  8,  9, 10])"
      ]
     },
     "metadata": {},
     "execution_count": 34
    }
   ],
   "source": [
    "arr"
   ]
  },
  {
   "source": [
    ">Slicing an array will created a view of the array. So any changes made to the view will affect the original array as well and vice versa.\n",
    ">To not impact the original array, create a copy of the original array and then proceed with slicing.\n",
    ">So if there is any changes been made to the copy array, it will not affect the original array and vice versa."
   ],
   "cell_type": "markdown",
   "metadata": {}
  },
  {
   "cell_type": "code",
   "execution_count": 36,
   "metadata": {},
   "outputs": [
    {
     "output_type": "execute_result",
     "data": {
      "text/plain": [
       "array([99, 99, 99, 99, 99])"
      ]
     },
     "metadata": {},
     "execution_count": 36
    }
   ],
   "source": [
    "arr = np.arange(0, 11)\n",
    "copy_arr = arr.copy()\n",
    "slice_of_copy_arr = copy_arr[0:5]\n",
    "slice_of_copy_arr[:] = 99\n",
    "slice_of_copy_arr"
   ]
  },
  {
   "cell_type": "code",
   "execution_count": 37,
   "metadata": {},
   "outputs": [
    {
     "output_type": "execute_result",
     "data": {
      "text/plain": [
       "array([ 0,  1,  2,  3,  4,  5,  6,  7,  8,  9, 10])"
      ]
     },
     "metadata": {},
     "execution_count": 37
    }
   ],
   "source": [
    "arr"
   ]
  },
  {
   "source": [
    "### Indexing 2D Arrays"
   ],
   "cell_type": "markdown",
   "metadata": {}
  },
  {
   "cell_type": "code",
   "execution_count": 38,
   "metadata": {},
   "outputs": [
    {
     "output_type": "execute_result",
     "data": {
      "text/plain": [
       "array([[ 5, 10, 15],\n",
       "       [20, 25, 30],\n",
       "       [35, 40, 45]])"
      ]
     },
     "metadata": {},
     "execution_count": 38
    }
   ],
   "source": [
    "arr_2d = np.array(([5,10, 15], [20, 25, 30], [35,40,45]))\n",
    "arr_2d"
   ]
  },
  {
   "cell_type": "code",
   "execution_count": 39,
   "metadata": {},
   "outputs": [
    {
     "output_type": "execute_result",
     "data": {
      "text/plain": [
       "array([20, 25, 30])"
      ]
     },
     "metadata": {},
     "execution_count": 39
    }
   ],
   "source": [
    "arr_2d[1]"
   ]
  },
  {
   "cell_type": "code",
   "execution_count": 40,
   "metadata": {},
   "outputs": [
    {
     "output_type": "execute_result",
     "data": {
      "text/plain": [
       "20"
      ]
     },
     "metadata": {},
     "execution_count": 40
    }
   ],
   "source": [
    "arr_2d[1,0]"
   ]
  },
  {
   "cell_type": "code",
   "execution_count": 53,
   "metadata": {},
   "outputs": [
    {
     "output_type": "execute_result",
     "data": {
      "text/plain": [
       "array([[ 5, 10],\n",
       "       [20, 25],\n",
       "       [35, 40]])"
      ]
     },
     "metadata": {},
     "execution_count": 53
    }
   ],
   "source": [
    "arr_2d[:3,:2] # arr_2d[rows, cols]"
   ]
  },
  {
   "cell_type": "code",
   "execution_count": 57,
   "metadata": {},
   "outputs": [
    {
     "output_type": "execute_result",
     "data": {
      "text/plain": [
       "array([[0., 0., 0., 0., 0.],\n",
       "       [0., 0., 0., 0., 0.],\n",
       "       [0., 0., 0., 0., 0.],\n",
       "       [0., 0., 0., 0., 0.],\n",
       "       [0., 0., 0., 0., 0.]])"
      ]
     },
     "metadata": {},
     "execution_count": 57
    }
   ],
   "source": [
    "arr2d = np.zeros((5, 5))\n",
    "arr2d"
   ]
  },
  {
   "cell_type": "code",
   "execution_count": 60,
   "metadata": {},
   "outputs": [
    {
     "output_type": "execute_result",
     "data": {
      "text/plain": [
       "5"
      ]
     },
     "metadata": {},
     "execution_count": 60
    }
   ],
   "source": [
    "arr_length = arr2d.shape[1]\n",
    "arr_length"
   ]
  },
  {
   "cell_type": "code",
   "execution_count": 61,
   "metadata": {},
   "outputs": [
    {
     "output_type": "execute_result",
     "data": {
      "text/plain": [
       "array([[0., 0., 0., 0., 0.],\n",
       "       [1., 1., 1., 1., 1.],\n",
       "       [2., 2., 2., 2., 2.],\n",
       "       [3., 3., 3., 3., 3.],\n",
       "       [4., 4., 4., 4., 4.]])"
      ]
     },
     "metadata": {},
     "execution_count": 61
    }
   ],
   "source": [
    "for i in range(arr_length):\n",
    "    arr2d[i] = i\n",
    "arr2d"
   ]
  },
  {
   "cell_type": "code",
   "execution_count": 63,
   "metadata": {},
   "outputs": [
    {
     "output_type": "execute_result",
     "data": {
      "text/plain": [
       "array([[0., 0., 0., 0., 0.],\n",
       "       [2., 2., 2., 2., 2.],\n",
       "       [4., 4., 4., 4., 4.]])"
      ]
     },
     "metadata": {},
     "execution_count": 63
    }
   ],
   "source": [
    "arr2d[[0, 2, 4]]"
   ]
  },
  {
   "source": [
    "## Array Transposition"
   ],
   "cell_type": "markdown",
   "metadata": {}
  },
  {
   "cell_type": "code",
   "execution_count": 65,
   "metadata": {},
   "outputs": [
    {
     "output_type": "execute_result",
     "data": {
      "text/plain": [
       "array([[ 1,  2,  3,  4,  5],\n",
       "       [ 6,  7,  8,  9, 10],\n",
       "       [11, 12, 13, 14, 15],\n",
       "       [16, 17, 18, 19, 20],\n",
       "       [21, 22, 23, 24, 25],\n",
       "       [26, 27, 28, 29, 30],\n",
       "       [31, 32, 33, 34, 35],\n",
       "       [36, 37, 38, 39, 40],\n",
       "       [41, 42, 43, 44, 45],\n",
       "       [46, 47, 48, 49, 50]])"
      ]
     },
     "metadata": {},
     "execution_count": 65
    }
   ],
   "source": [
    "arr = np.arange(1, 51).reshape(10, 5)\n",
    "arr"
   ]
  },
  {
   "cell_type": "code",
   "execution_count": 66,
   "metadata": {},
   "outputs": [
    {
     "output_type": "execute_result",
     "data": {
      "text/plain": [
       "array([[ 1,  6, 11, 16, 21, 26, 31, 36, 41, 46],\n",
       "       [ 2,  7, 12, 17, 22, 27, 32, 37, 42, 47],\n",
       "       [ 3,  8, 13, 18, 23, 28, 33, 38, 43, 48],\n",
       "       [ 4,  9, 14, 19, 24, 29, 34, 39, 44, 49],\n",
       "       [ 5, 10, 15, 20, 25, 30, 35, 40, 45, 50]])"
      ]
     },
     "metadata": {},
     "execution_count": 66
    }
   ],
   "source": [
    "arr.T"
   ]
  },
  {
   "cell_type": "code",
   "execution_count": 67,
   "metadata": {},
   "outputs": [
    {
     "output_type": "execute_result",
     "data": {
      "text/plain": [
       "array([[7585, 7820, 8055, 8290, 8525],\n",
       "       [7820, 8065, 8310, 8555, 8800],\n",
       "       [8055, 8310, 8565, 8820, 9075],\n",
       "       [8290, 8555, 8820, 9085, 9350],\n",
       "       [8525, 8800, 9075, 9350, 9625]])"
      ]
     },
     "metadata": {},
     "execution_count": 67
    }
   ],
   "source": [
    "np.dot(arr.T, arr)"
   ]
  },
  {
   "cell_type": "code",
   "execution_count": 68,
   "metadata": {},
   "outputs": [
    {
     "output_type": "execute_result",
     "data": {
      "text/plain": [
       "array([[[ 1,  2],\n",
       "        [ 3,  4],\n",
       "        [ 5,  6],\n",
       "        [ 7,  8],\n",
       "        [ 9, 10]],\n",
       "\n",
       "       [[11, 12],\n",
       "        [13, 14],\n",
       "        [15, 16],\n",
       "        [17, 18],\n",
       "        [19, 20]],\n",
       "\n",
       "       [[21, 22],\n",
       "        [23, 24],\n",
       "        [25, 26],\n",
       "        [27, 28],\n",
       "        [29, 30]],\n",
       "\n",
       "       [[31, 32],\n",
       "        [33, 34],\n",
       "        [35, 36],\n",
       "        [37, 38],\n",
       "        [39, 40]],\n",
       "\n",
       "       [[41, 42],\n",
       "        [43, 44],\n",
       "        [45, 46],\n",
       "        [47, 48],\n",
       "        [49, 50]]])"
      ]
     },
     "metadata": {},
     "execution_count": 68
    }
   ],
   "source": [
    "arr3d = np.arange(1, 51).reshape((5, 5, 2))\n",
    "arr3d"
   ]
  },
  {
   "cell_type": "code",
   "execution_count": 69,
   "metadata": {},
   "outputs": [
    {
     "output_type": "execute_result",
     "data": {
      "text/plain": [
       "array([[[ 1,  2],\n",
       "        [11, 12],\n",
       "        [21, 22],\n",
       "        [31, 32],\n",
       "        [41, 42]],\n",
       "\n",
       "       [[ 3,  4],\n",
       "        [13, 14],\n",
       "        [23, 24],\n",
       "        [33, 34],\n",
       "        [43, 44]],\n",
       "\n",
       "       [[ 5,  6],\n",
       "        [15, 16],\n",
       "        [25, 26],\n",
       "        [35, 36],\n",
       "        [45, 46]],\n",
       "\n",
       "       [[ 7,  8],\n",
       "        [17, 18],\n",
       "        [27, 28],\n",
       "        [37, 38],\n",
       "        [47, 48]],\n",
       "\n",
       "       [[ 9, 10],\n",
       "        [19, 20],\n",
       "        [29, 30],\n",
       "        [39, 40],\n",
       "        [49, 50]]])"
      ]
     },
     "metadata": {},
     "execution_count": 69
    }
   ],
   "source": [
    "arr3d.transpose((1, 0, 2))"
   ]
  },
  {
   "cell_type": "code",
   "execution_count": 70,
   "metadata": {},
   "outputs": [
    {
     "output_type": "execute_result",
     "data": {
      "text/plain": [
       "array([[1, 2, 3]])"
      ]
     },
     "metadata": {},
     "execution_count": 70
    }
   ],
   "source": [
    "arr = np.array([[1,2,3]])\n",
    "arr"
   ]
  },
  {
   "cell_type": "code",
   "execution_count": 71,
   "metadata": {},
   "outputs": [
    {
     "output_type": "execute_result",
     "data": {
      "text/plain": [
       "array([[1],\n",
       "       [2],\n",
       "       [3]])"
      ]
     },
     "metadata": {},
     "execution_count": 71
    }
   ],
   "source": [
    "arr.swapaxes(0, 1)"
   ]
  },
  {
   "cell_type": "code",
   "execution_count": 73,
   "metadata": {},
   "outputs": [
    {
     "output_type": "execute_result",
     "data": {
      "text/plain": [
       "array([[[1, 2],\n",
       "        [3, 4]],\n",
       "\n",
       "       [[5, 6],\n",
       "        [7, 8]]])"
      ]
     },
     "metadata": {},
     "execution_count": 73
    }
   ],
   "source": [
    "arr_3d = np.arange(1, 9).reshape(2, 2, 2)\n",
    "arr_3d"
   ]
  },
  {
   "cell_type": "code",
   "execution_count": 78,
   "metadata": {},
   "outputs": [
    {
     "output_type": "execute_result",
     "data": {
      "text/plain": [
       "array([[[1, 3],\n",
       "        [2, 4]],\n",
       "\n",
       "       [[5, 7],\n",
       "        [6, 8]]])"
      ]
     },
     "metadata": {},
     "execution_count": 78
    }
   ],
   "source": [
    "arr_3d.swapaxes(2, 1)"
   ]
  },
  {
   "source": [
    "## Universal Array Function"
   ],
   "cell_type": "markdown",
   "metadata": {}
  },
  {
   "cell_type": "code",
   "execution_count": 4,
   "metadata": {},
   "outputs": [
    {
     "output_type": "execute_result",
     "data": {
      "text/plain": [
       "array([ 1,  2,  3,  4,  5,  6,  7,  8,  9, 10])"
      ]
     },
     "metadata": {},
     "execution_count": 4
    }
   ],
   "source": [
    "arr = np.arange(1, 11)\n",
    "arr"
   ]
  },
  {
   "cell_type": "code",
   "execution_count": 5,
   "metadata": {},
   "outputs": [
    {
     "output_type": "execute_result",
     "data": {
      "text/plain": [
       "array([1.        , 1.41421356, 1.73205081, 2.        , 2.23606798,\n",
       "       2.44948974, 2.64575131, 2.82842712, 3.        , 3.16227766])"
      ]
     },
     "metadata": {},
     "execution_count": 5
    }
   ],
   "source": [
    "np.sqrt(arr)"
   ]
  },
  {
   "cell_type": "code",
   "execution_count": 6,
   "metadata": {},
   "outputs": [
    {
     "output_type": "execute_result",
     "data": {
      "text/plain": [
       "array([2.71828183e+00, 7.38905610e+00, 2.00855369e+01, 5.45981500e+01,\n",
       "       1.48413159e+02, 4.03428793e+02, 1.09663316e+03, 2.98095799e+03,\n",
       "       8.10308393e+03, 2.20264658e+04])"
      ]
     },
     "metadata": {},
     "execution_count": 6
    }
   ],
   "source": [
    "np.exp(arr)"
   ]
  },
  {
   "cell_type": "code",
   "execution_count": 7,
   "metadata": {},
   "outputs": [
    {
     "output_type": "execute_result",
     "data": {
      "text/plain": [
       "array([ 1.42825975,  0.94432668,  0.36310941, -0.79836087,  0.26693869,\n",
       "        1.17001069, -0.31670147, -0.91265564, -1.83745385, -1.31228513])"
      ]
     },
     "metadata": {},
     "execution_count": 7
    }
   ],
   "source": [
    "A = np.random.randn(10)\n",
    "A"
   ]
  },
  {
   "cell_type": "code",
   "execution_count": 8,
   "metadata": {},
   "outputs": [
    {
     "output_type": "execute_result",
     "data": {
      "text/plain": [
       "array([-2.93930926,  0.75982984,  1.4016779 ,  0.26910329, -1.69254095,\n",
       "       -0.74923779, -0.67705907, -1.41684808,  0.3155269 , -0.98232704])"
      ]
     },
     "metadata": {},
     "execution_count": 8
    }
   ],
   "source": [
    "B = np.random.randn(10)\n",
    "B"
   ]
  },
  {
   "source": [
    "### Binary Functions"
   ],
   "cell_type": "markdown",
   "metadata": {}
  },
  {
   "cell_type": "code",
   "execution_count": 9,
   "metadata": {},
   "outputs": [
    {
     "output_type": "execute_result",
     "data": {
      "text/plain": [
       "array([-1.51104951,  1.70415652,  1.76478731, -0.52925757, -1.42560226,\n",
       "        0.4207729 , -0.99376054, -2.32950372, -1.52192695, -2.29461216])"
      ]
     },
     "metadata": {},
     "execution_count": 9
    }
   ],
   "source": [
    "np.add(A, B)"
   ]
  },
  {
   "cell_type": "code",
   "execution_count": 10,
   "metadata": {},
   "outputs": [
    {
     "output_type": "execute_result",
     "data": {
      "text/plain": [
       "array([ 1.42825975,  0.94432668,  1.4016779 ,  0.26910329,  0.26693869,\n",
       "        1.17001069, -0.31670147, -0.91265564,  0.3155269 , -0.98232704])"
      ]
     },
     "metadata": {},
     "execution_count": 10
    }
   ],
   "source": [
    "np.maximum(A, B)"
   ]
  },
  {
   "cell_type": "code",
   "execution_count": 11,
   "metadata": {},
   "outputs": [
    {
     "output_type": "execute_result",
     "data": {
      "text/plain": [
       "True"
      ]
     },
     "metadata": {},
     "execution_count": 11
    }
   ],
   "source": [
    "website = \"https://docs.scipy.org/doc/numpy-1.3.x/reference/ufuncs.html#available-ufuncs\"\n",
    "import webbrowser\n",
    "webbrowser.open(website)"
   ]
  },
  {
   "source": [
    "## Array Processing"
   ],
   "cell_type": "markdown",
   "metadata": {}
  },
  {
   "cell_type": "code",
   "execution_count": 12,
   "metadata": {},
   "outputs": [],
   "source": [
    "import matplotlib.pyplot as plt\n",
    "%matplotlib inline"
   ]
  },
  {
   "cell_type": "code",
   "execution_count": 13,
   "metadata": {},
   "outputs": [],
   "source": [
    "points = np.arange(-5, 5, 0.01)"
   ]
  },
  {
   "cell_type": "code",
   "execution_count": 14,
   "metadata": {},
   "outputs": [],
   "source": [
    "dx, dy = np.meshgrid(points, points)"
   ]
  },
  {
   "cell_type": "code",
   "execution_count": 15,
   "metadata": {},
   "outputs": [
    {
     "output_type": "execute_result",
     "data": {
      "text/plain": [
       "array([[-5.  , -4.99, -4.98, ...,  4.97,  4.98,  4.99],\n",
       "       [-5.  , -4.99, -4.98, ...,  4.97,  4.98,  4.99],\n",
       "       [-5.  , -4.99, -4.98, ...,  4.97,  4.98,  4.99],\n",
       "       ...,\n",
       "       [-5.  , -4.99, -4.98, ...,  4.97,  4.98,  4.99],\n",
       "       [-5.  , -4.99, -4.98, ...,  4.97,  4.98,  4.99],\n",
       "       [-5.  , -4.99, -4.98, ...,  4.97,  4.98,  4.99]])"
      ]
     },
     "metadata": {},
     "execution_count": 15
    }
   ],
   "source": [
    "dx"
   ]
  },
  {
   "cell_type": "code",
   "execution_count": 16,
   "metadata": {},
   "outputs": [
    {
     "output_type": "execute_result",
     "data": {
      "text/plain": [
       "array([[-5.  , -5.  , -5.  , ..., -5.  , -5.  , -5.  ],\n",
       "       [-4.99, -4.99, -4.99, ..., -4.99, -4.99, -4.99],\n",
       "       [-4.98, -4.98, -4.98, ..., -4.98, -4.98, -4.98],\n",
       "       ...,\n",
       "       [ 4.97,  4.97,  4.97, ...,  4.97,  4.97,  4.97],\n",
       "       [ 4.98,  4.98,  4.98, ...,  4.98,  4.98,  4.98],\n",
       "       [ 4.99,  4.99,  4.99, ...,  4.99,  4.99,  4.99]])"
      ]
     },
     "metadata": {},
     "execution_count": 16
    }
   ],
   "source": [
    "dy"
   ]
  },
  {
   "cell_type": "code",
   "execution_count": 17,
   "metadata": {},
   "outputs": [
    {
     "output_type": "execute_result",
     "data": {
      "text/plain": [
       "array([[ 1.91784855e+00,  1.92063718e+00,  1.92332964e+00, ...,\n",
       "        -8.07710558e-03, -5.48108704e-03, -2.78862876e-03],\n",
       "       [ 1.92063718e+00,  1.92342581e+00,  1.92611827e+00, ...,\n",
       "        -5.28847682e-03, -2.69245827e-03, -5.85087534e-14],\n",
       "       [ 1.92332964e+00,  1.92611827e+00,  1.92881072e+00, ...,\n",
       "        -2.59601854e-03, -5.63993297e-14,  2.69245827e-03],\n",
       "       ...,\n",
       "       [-8.07710558e-03, -5.28847682e-03, -2.59601854e-03, ...,\n",
       "        -1.93400276e+00, -1.93140674e+00, -1.92871428e+00],\n",
       "       [-5.48108704e-03, -2.69245827e-03, -5.63993297e-14, ...,\n",
       "        -1.93140674e+00, -1.92881072e+00, -1.92611827e+00],\n",
       "       [-2.78862876e-03, -5.85087534e-14,  2.69245827e-03, ...,\n",
       "        -1.92871428e+00, -1.92611827e+00, -1.92342581e+00]])"
      ]
     },
     "metadata": {},
     "execution_count": 17
    }
   ],
   "source": [
    "z = (np.sin(dx) + np.sin(dy))\n",
    "z"
   ]
  },
  {
   "cell_type": "code",
   "execution_count": 19,
   "metadata": {},
   "outputs": [
    {
     "output_type": "execute_result",
     "data": {
      "text/plain": [
       "Text(0.5, 1.0, 'Plot for sin(x)+sin(y)')"
      ]
     },
     "metadata": {},
     "execution_count": 19
    },
    {
     "output_type": "display_data",
     "data": {
      "text/plain": "<Figure size 432x288 with 2 Axes>",
      "image/svg+xml": "<?xml version=\"1.0\" encoding=\"utf-8\" standalone=\"no\"?>\r\n<!DOCTYPE svg PUBLIC \"-//W3C//DTD SVG 1.1//EN\"\r\n  \"http://www.w3.org/Graphics/SVG/1.1/DTD/svg11.dtd\">\r\n<!-- Created with matplotlib (https://matplotlib.org/) -->\r\n<svg height=\"263.63625pt\" version=\"1.1\" viewBox=\"0 0 316.822312 263.63625\" width=\"316.822312pt\" xmlns=\"http://www.w3.org/2000/svg\" xmlns:xlink=\"http://www.w3.org/1999/xlink\">\r\n <metadata>\r\n  <rdf:RDF xmlns:cc=\"http://creativecommons.org/ns#\" xmlns:dc=\"http://purl.org/dc/elements/1.1/\" xmlns:rdf=\"http://www.w3.org/1999/02/22-rdf-syntax-ns#\">\r\n   <cc:Work>\r\n    <dc:type rdf:resource=\"http://purl.org/dc/dcmitype/StillImage\"/>\r\n    <dc:date>2021-06-12T22:04:20.361590</dc:date>\r\n    <dc:format>image/svg+xml</dc:format>\r\n    <dc:creator>\r\n     <cc:Agent>\r\n      <dc:title>Matplotlib v3.3.4, https://matplotlib.org/</dc:title>\r\n     </cc:Agent>\r\n    </dc:creator>\r\n   </cc:Work>\r\n  </rdf:RDF>\r\n </metadata>\r\n <defs>\r\n  <style type=\"text/css\">*{stroke-linecap:butt;stroke-linejoin:round;}</style>\r\n </defs>\r\n <g id=\"figure_1\">\r\n  <g id=\"patch_1\">\r\n   <path d=\"M 0 263.63625 \r\nL 316.822312 263.63625 \r\nL 316.822312 0 \r\nL 0 0 \r\nz\r\n\" style=\"fill:none;\"/>\r\n  </g>\r\n  <g id=\"axes_1\">\r\n   <g id=\"patch_2\">\r\n    <path d=\"M 33.2875 239.758125 \r\nL 250.7275 239.758125 \r\nL 250.7275 22.318125 \r\nL 33.2875 22.318125 \r\nz\r\n\" style=\"fill:#ffffff;\"/>\r\n   </g>\r\n   <g clip-path=\"url(#p0200418bcb)\">\r\n    <image height=\"218\" id=\"image4a8bcb65c6\" transform=\"scale(1 -1)translate(0 -218)\" width=\"218\" x=\"33.2875\" xlink:href=\"data:image/png;base64,\r\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\" y=\"-21.758125\"/>\r\n   </g>\r\n   <g id=\"matplotlib.axis_1\">\r\n    <g id=\"xtick_1\">\r\n     <g id=\"line2d_1\">\r\n      <defs>\r\n       <path d=\"M 0 0 \r\nL 0 3.5 \r\n\" id=\"mea2673ba49\" style=\"stroke:#000000;stroke-width:0.8;\"/>\r\n      </defs>\r\n      <g>\r\n       <use style=\"stroke:#000000;stroke-width:0.8;\" x=\"33.39622\" xlink:href=\"#mea2673ba49\" y=\"239.758125\"/>\r\n      </g>\r\n     </g>\r\n     <g id=\"text_1\">\r\n      <!-- 0 -->\r\n      <g transform=\"translate(30.21497 254.356563)scale(0.1 -0.1)\">\r\n       <defs>\r\n        <path d=\"M 31.78125 66.40625 \r\nQ 24.171875 66.40625 20.328125 58.90625 \r\nQ 16.5 51.421875 16.5 36.375 \r\nQ 16.5 21.390625 20.328125 13.890625 \r\nQ 24.171875 6.390625 31.78125 6.390625 \r\nQ 39.453125 6.390625 43.28125 13.890625 \r\nQ 47.125 21.390625 47.125 36.375 \r\nQ 47.125 51.421875 43.28125 58.90625 \r\nQ 39.453125 66.40625 31.78125 66.40625 \r\nz\r\nM 31.78125 74.21875 \r\nQ 44.046875 74.21875 50.515625 64.515625 \r\nQ 56.984375 54.828125 56.984375 36.375 \r\nQ 56.984375 17.96875 50.515625 8.265625 \r\nQ 44.046875 -1.421875 31.78125 -1.421875 \r\nQ 19.53125 -1.421875 13.0625 8.265625 \r\nQ 6.59375 17.96875 6.59375 36.375 \r\nQ 6.59375 54.828125 13.0625 64.515625 \r\nQ 19.53125 74.21875 31.78125 74.21875 \r\nz\r\n\" id=\"DejaVuSans-48\"/>\r\n       </defs>\r\n       <use xlink:href=\"#DejaVuSans-48\"/>\r\n      </g>\r\n     </g>\r\n    </g>\r\n    <g id=\"xtick_2\">\r\n     <g id=\"line2d_2\">\r\n      <g>\r\n       <use style=\"stroke:#000000;stroke-width:0.8;\" x=\"76.88422\" xlink:href=\"#mea2673ba49\" y=\"239.758125\"/>\r\n      </g>\r\n     </g>\r\n     <g id=\"text_2\">\r\n      <!-- 200 -->\r\n      <g transform=\"translate(67.34047 254.356563)scale(0.1 -0.1)\">\r\n       <defs>\r\n        <path d=\"M 19.1875 8.296875 \r\nL 53.609375 8.296875 \r\nL 53.609375 0 \r\nL 7.328125 0 \r\nL 7.328125 8.296875 \r\nQ 12.9375 14.109375 22.625 23.890625 \r\nQ 32.328125 33.6875 34.8125 36.53125 \r\nQ 39.546875 41.84375 41.421875 45.53125 \r\nQ 43.3125 49.21875 43.3125 52.78125 \r\nQ 43.3125 58.59375 39.234375 62.25 \r\nQ 35.15625 65.921875 28.609375 65.921875 \r\nQ 23.96875 65.921875 18.8125 64.3125 \r\nQ 13.671875 62.703125 7.8125 59.421875 \r\nL 7.8125 69.390625 \r\nQ 13.765625 71.78125 18.9375 73 \r\nQ 24.125 74.21875 28.421875 74.21875 \r\nQ 39.75 74.21875 46.484375 68.546875 \r\nQ 53.21875 62.890625 53.21875 53.421875 \r\nQ 53.21875 48.921875 51.53125 44.890625 \r\nQ 49.859375 40.875 45.40625 35.40625 \r\nQ 44.1875 33.984375 37.640625 27.21875 \r\nQ 31.109375 20.453125 19.1875 8.296875 \r\nz\r\n\" id=\"DejaVuSans-50\"/>\r\n       </defs>\r\n       <use xlink:href=\"#DejaVuSans-50\"/>\r\n       <use x=\"63.623047\" xlink:href=\"#DejaVuSans-48\"/>\r\n       <use x=\"127.246094\" xlink:href=\"#DejaVuSans-48\"/>\r\n      </g>\r\n     </g>\r\n    </g>\r\n    <g id=\"xtick_3\">\r\n     <g id=\"line2d_3\">\r\n      <g>\r\n       <use style=\"stroke:#000000;stroke-width:0.8;\" x=\"120.37222\" xlink:href=\"#mea2673ba49\" y=\"239.758125\"/>\r\n      </g>\r\n     </g>\r\n     <g id=\"text_3\">\r\n      <!-- 400 -->\r\n      <g transform=\"translate(110.82847 254.356563)scale(0.1 -0.1)\">\r\n       <defs>\r\n        <path d=\"M 37.796875 64.3125 \r\nL 12.890625 25.390625 \r\nL 37.796875 25.390625 \r\nz\r\nM 35.203125 72.90625 \r\nL 47.609375 72.90625 \r\nL 47.609375 25.390625 \r\nL 58.015625 25.390625 \r\nL 58.015625 17.1875 \r\nL 47.609375 17.1875 \r\nL 47.609375 0 \r\nL 37.796875 0 \r\nL 37.796875 17.1875 \r\nL 4.890625 17.1875 \r\nL 4.890625 26.703125 \r\nz\r\n\" id=\"DejaVuSans-52\"/>\r\n       </defs>\r\n       <use xlink:href=\"#DejaVuSans-52\"/>\r\n       <use x=\"63.623047\" xlink:href=\"#DejaVuSans-48\"/>\r\n       <use x=\"127.246094\" xlink:href=\"#DejaVuSans-48\"/>\r\n      </g>\r\n     </g>\r\n    </g>\r\n    <g id=\"xtick_4\">\r\n     <g id=\"line2d_4\">\r\n      <g>\r\n       <use style=\"stroke:#000000;stroke-width:0.8;\" x=\"163.86022\" xlink:href=\"#mea2673ba49\" y=\"239.758125\"/>\r\n      </g>\r\n     </g>\r\n     <g id=\"text_4\">\r\n      <!-- 600 -->\r\n      <g transform=\"translate(154.31647 254.356563)scale(0.1 -0.1)\">\r\n       <defs>\r\n        <path d=\"M 33.015625 40.375 \r\nQ 26.375 40.375 22.484375 35.828125 \r\nQ 18.609375 31.296875 18.609375 23.390625 \r\nQ 18.609375 15.53125 22.484375 10.953125 \r\nQ 26.375 6.390625 33.015625 6.390625 \r\nQ 39.65625 6.390625 43.53125 10.953125 \r\nQ 47.40625 15.53125 47.40625 23.390625 \r\nQ 47.40625 31.296875 43.53125 35.828125 \r\nQ 39.65625 40.375 33.015625 40.375 \r\nz\r\nM 52.59375 71.296875 \r\nL 52.59375 62.3125 \r\nQ 48.875 64.0625 45.09375 64.984375 \r\nQ 41.3125 65.921875 37.59375 65.921875 \r\nQ 27.828125 65.921875 22.671875 59.328125 \r\nQ 17.53125 52.734375 16.796875 39.40625 \r\nQ 19.671875 43.65625 24.015625 45.921875 \r\nQ 28.375 48.1875 33.59375 48.1875 \r\nQ 44.578125 48.1875 50.953125 41.515625 \r\nQ 57.328125 34.859375 57.328125 23.390625 \r\nQ 57.328125 12.15625 50.6875 5.359375 \r\nQ 44.046875 -1.421875 33.015625 -1.421875 \r\nQ 20.359375 -1.421875 13.671875 8.265625 \r\nQ 6.984375 17.96875 6.984375 36.375 \r\nQ 6.984375 53.65625 15.1875 63.9375 \r\nQ 23.390625 74.21875 37.203125 74.21875 \r\nQ 40.921875 74.21875 44.703125 73.484375 \r\nQ 48.484375 72.75 52.59375 71.296875 \r\nz\r\n\" id=\"DejaVuSans-54\"/>\r\n       </defs>\r\n       <use xlink:href=\"#DejaVuSans-54\"/>\r\n       <use x=\"63.623047\" xlink:href=\"#DejaVuSans-48\"/>\r\n       <use x=\"127.246094\" xlink:href=\"#DejaVuSans-48\"/>\r\n      </g>\r\n     </g>\r\n    </g>\r\n    <g id=\"xtick_5\">\r\n     <g id=\"line2d_5\">\r\n      <g>\r\n       <use style=\"stroke:#000000;stroke-width:0.8;\" x=\"207.34822\" xlink:href=\"#mea2673ba49\" y=\"239.758125\"/>\r\n      </g>\r\n     </g>\r\n     <g id=\"text_5\">\r\n      <!-- 800 -->\r\n      <g transform=\"translate(197.80447 254.356563)scale(0.1 -0.1)\">\r\n       <defs>\r\n        <path d=\"M 31.78125 34.625 \r\nQ 24.75 34.625 20.71875 30.859375 \r\nQ 16.703125 27.09375 16.703125 20.515625 \r\nQ 16.703125 13.921875 20.71875 10.15625 \r\nQ 24.75 6.390625 31.78125 6.390625 \r\nQ 38.8125 6.390625 42.859375 10.171875 \r\nQ 46.921875 13.96875 46.921875 20.515625 \r\nQ 46.921875 27.09375 42.890625 30.859375 \r\nQ 38.875 34.625 31.78125 34.625 \r\nz\r\nM 21.921875 38.8125 \r\nQ 15.578125 40.375 12.03125 44.71875 \r\nQ 8.5 49.078125 8.5 55.328125 \r\nQ 8.5 64.0625 14.71875 69.140625 \r\nQ 20.953125 74.21875 31.78125 74.21875 \r\nQ 42.671875 74.21875 48.875 69.140625 \r\nQ 55.078125 64.0625 55.078125 55.328125 \r\nQ 55.078125 49.078125 51.53125 44.71875 \r\nQ 48 40.375 41.703125 38.8125 \r\nQ 48.828125 37.15625 52.796875 32.3125 \r\nQ 56.78125 27.484375 56.78125 20.515625 \r\nQ 56.78125 9.90625 50.3125 4.234375 \r\nQ 43.84375 -1.421875 31.78125 -1.421875 \r\nQ 19.734375 -1.421875 13.25 4.234375 \r\nQ 6.78125 9.90625 6.78125 20.515625 \r\nQ 6.78125 27.484375 10.78125 32.3125 \r\nQ 14.796875 37.15625 21.921875 38.8125 \r\nz\r\nM 18.3125 54.390625 \r\nQ 18.3125 48.734375 21.84375 45.5625 \r\nQ 25.390625 42.390625 31.78125 42.390625 \r\nQ 38.140625 42.390625 41.71875 45.5625 \r\nQ 45.3125 48.734375 45.3125 54.390625 \r\nQ 45.3125 60.0625 41.71875 63.234375 \r\nQ 38.140625 66.40625 31.78125 66.40625 \r\nQ 25.390625 66.40625 21.84375 63.234375 \r\nQ 18.3125 60.0625 18.3125 54.390625 \r\nz\r\n\" id=\"DejaVuSans-56\"/>\r\n       </defs>\r\n       <use xlink:href=\"#DejaVuSans-56\"/>\r\n       <use x=\"63.623047\" xlink:href=\"#DejaVuSans-48\"/>\r\n       <use x=\"127.246094\" xlink:href=\"#DejaVuSans-48\"/>\r\n      </g>\r\n     </g>\r\n    </g>\r\n   </g>\r\n   <g id=\"matplotlib.axis_2\">\r\n    <g id=\"ytick_1\">\r\n     <g id=\"line2d_6\">\r\n      <defs>\r\n       <path d=\"M 0 0 \r\nL -3.5 0 \r\n\" id=\"m2bf8401273\" style=\"stroke:#000000;stroke-width:0.8;\"/>\r\n      </defs>\r\n      <g>\r\n       <use style=\"stroke:#000000;stroke-width:0.8;\" x=\"33.2875\" xlink:href=\"#m2bf8401273\" y=\"22.426845\"/>\r\n      </g>\r\n     </g>\r\n     <g id=\"text_6\">\r\n      <!-- 0 -->\r\n      <g transform=\"translate(19.925 26.226064)scale(0.1 -0.1)\">\r\n       <use xlink:href=\"#DejaVuSans-48\"/>\r\n      </g>\r\n     </g>\r\n    </g>\r\n    <g id=\"ytick_2\">\r\n     <g id=\"line2d_7\">\r\n      <g>\r\n       <use style=\"stroke:#000000;stroke-width:0.8;\" x=\"33.2875\" xlink:href=\"#m2bf8401273\" y=\"65.914845\"/>\r\n      </g>\r\n     </g>\r\n     <g id=\"text_7\">\r\n      <!-- 200 -->\r\n      <g transform=\"translate(7.2 69.714064)scale(0.1 -0.1)\">\r\n       <use xlink:href=\"#DejaVuSans-50\"/>\r\n       <use x=\"63.623047\" xlink:href=\"#DejaVuSans-48\"/>\r\n       <use x=\"127.246094\" xlink:href=\"#DejaVuSans-48\"/>\r\n      </g>\r\n     </g>\r\n    </g>\r\n    <g id=\"ytick_3\">\r\n     <g id=\"line2d_8\">\r\n      <g>\r\n       <use style=\"stroke:#000000;stroke-width:0.8;\" x=\"33.2875\" xlink:href=\"#m2bf8401273\" y=\"109.402845\"/>\r\n      </g>\r\n     </g>\r\n     <g id=\"text_8\">\r\n      <!-- 400 -->\r\n      <g transform=\"translate(7.2 113.202064)scale(0.1 -0.1)\">\r\n       <use xlink:href=\"#DejaVuSans-52\"/>\r\n       <use x=\"63.623047\" xlink:href=\"#DejaVuSans-48\"/>\r\n       <use x=\"127.246094\" xlink:href=\"#DejaVuSans-48\"/>\r\n      </g>\r\n     </g>\r\n    </g>\r\n    <g id=\"ytick_4\">\r\n     <g id=\"line2d_9\">\r\n      <g>\r\n       <use style=\"stroke:#000000;stroke-width:0.8;\" x=\"33.2875\" xlink:href=\"#m2bf8401273\" y=\"152.890845\"/>\r\n      </g>\r\n     </g>\r\n     <g id=\"text_9\">\r\n      <!-- 600 -->\r\n      <g transform=\"translate(7.2 156.690064)scale(0.1 -0.1)\">\r\n       <use xlink:href=\"#DejaVuSans-54\"/>\r\n       <use x=\"63.623047\" xlink:href=\"#DejaVuSans-48\"/>\r\n       <use x=\"127.246094\" xlink:href=\"#DejaVuSans-48\"/>\r\n      </g>\r\n     </g>\r\n    </g>\r\n    <g id=\"ytick_5\">\r\n     <g id=\"line2d_10\">\r\n      <g>\r\n       <use style=\"stroke:#000000;stroke-width:0.8;\" x=\"33.2875\" xlink:href=\"#m2bf8401273\" y=\"196.378845\"/>\r\n      </g>\r\n     </g>\r\n     <g id=\"text_10\">\r\n      <!-- 800 -->\r\n      <g transform=\"translate(7.2 200.178064)scale(0.1 -0.1)\">\r\n       <use xlink:href=\"#DejaVuSans-56\"/>\r\n       <use x=\"63.623047\" xlink:href=\"#DejaVuSans-48\"/>\r\n       <use x=\"127.246094\" xlink:href=\"#DejaVuSans-48\"/>\r\n      </g>\r\n     </g>\r\n    </g>\r\n   </g>\r\n   <g id=\"patch_3\">\r\n    <path d=\"M 33.2875 239.758125 \r\nL 33.2875 22.318125 \r\n\" style=\"fill:none;stroke:#000000;stroke-linecap:square;stroke-linejoin:miter;stroke-width:0.8;\"/>\r\n   </g>\r\n   <g id=\"patch_4\">\r\n    <path d=\"M 250.7275 239.758125 \r\nL 250.7275 22.318125 \r\n\" style=\"fill:none;stroke:#000000;stroke-linecap:square;stroke-linejoin:miter;stroke-width:0.8;\"/>\r\n   </g>\r\n   <g id=\"patch_5\">\r\n    <path d=\"M 33.2875 239.758125 \r\nL 250.7275 239.758125 \r\n\" style=\"fill:none;stroke:#000000;stroke-linecap:square;stroke-linejoin:miter;stroke-width:0.8;\"/>\r\n   </g>\r\n   <g id=\"patch_6\">\r\n    <path d=\"M 33.2875 22.318125 \r\nL 250.7275 22.318125 \r\n\" style=\"fill:none;stroke:#000000;stroke-linecap:square;stroke-linejoin:miter;stroke-width:0.8;\"/>\r\n   </g>\r\n   <g id=\"text_11\">\r\n    <!-- Plot for sin(x)+sin(y) -->\r\n    <g transform=\"translate(79.951562 16.318125)scale(0.12 -0.12)\">\r\n     <defs>\r\n      <path d=\"M 19.671875 64.796875 \r\nL 19.671875 37.40625 \r\nL 32.078125 37.40625 \r\nQ 38.96875 37.40625 42.71875 40.96875 \r\nQ 46.484375 44.53125 46.484375 51.125 \r\nQ 46.484375 57.671875 42.71875 61.234375 \r\nQ 38.96875 64.796875 32.078125 64.796875 \r\nz\r\nM 9.8125 72.90625 \r\nL 32.078125 72.90625 \r\nQ 44.34375 72.90625 50.609375 67.359375 \r\nQ 56.890625 61.8125 56.890625 51.125 \r\nQ 56.890625 40.328125 50.609375 34.8125 \r\nQ 44.34375 29.296875 32.078125 29.296875 \r\nL 19.671875 29.296875 \r\nL 19.671875 0 \r\nL 9.8125 0 \r\nz\r\n\" id=\"DejaVuSans-80\"/>\r\n      <path d=\"M 9.421875 75.984375 \r\nL 18.40625 75.984375 \r\nL 18.40625 0 \r\nL 9.421875 0 \r\nz\r\n\" id=\"DejaVuSans-108\"/>\r\n      <path d=\"M 30.609375 48.390625 \r\nQ 23.390625 48.390625 19.1875 42.75 \r\nQ 14.984375 37.109375 14.984375 27.296875 \r\nQ 14.984375 17.484375 19.15625 11.84375 \r\nQ 23.34375 6.203125 30.609375 6.203125 \r\nQ 37.796875 6.203125 41.984375 11.859375 \r\nQ 46.1875 17.53125 46.1875 27.296875 \r\nQ 46.1875 37.015625 41.984375 42.703125 \r\nQ 37.796875 48.390625 30.609375 48.390625 \r\nz\r\nM 30.609375 56 \r\nQ 42.328125 56 49.015625 48.375 \r\nQ 55.71875 40.765625 55.71875 27.296875 \r\nQ 55.71875 13.875 49.015625 6.21875 \r\nQ 42.328125 -1.421875 30.609375 -1.421875 \r\nQ 18.84375 -1.421875 12.171875 6.21875 \r\nQ 5.515625 13.875 5.515625 27.296875 \r\nQ 5.515625 40.765625 12.171875 48.375 \r\nQ 18.84375 56 30.609375 56 \r\nz\r\n\" id=\"DejaVuSans-111\"/>\r\n      <path d=\"M 18.3125 70.21875 \r\nL 18.3125 54.6875 \r\nL 36.8125 54.6875 \r\nL 36.8125 47.703125 \r\nL 18.3125 47.703125 \r\nL 18.3125 18.015625 \r\nQ 18.3125 11.328125 20.140625 9.421875 \r\nQ 21.96875 7.515625 27.59375 7.515625 \r\nL 36.8125 7.515625 \r\nL 36.8125 0 \r\nL 27.59375 0 \r\nQ 17.1875 0 13.234375 3.875 \r\nQ 9.28125 7.765625 9.28125 18.015625 \r\nL 9.28125 47.703125 \r\nL 2.6875 47.703125 \r\nL 2.6875 54.6875 \r\nL 9.28125 54.6875 \r\nL 9.28125 70.21875 \r\nz\r\n\" id=\"DejaVuSans-116\"/>\r\n      <path id=\"DejaVuSans-32\"/>\r\n      <path d=\"M 37.109375 75.984375 \r\nL 37.109375 68.5 \r\nL 28.515625 68.5 \r\nQ 23.6875 68.5 21.796875 66.546875 \r\nQ 19.921875 64.59375 19.921875 59.515625 \r\nL 19.921875 54.6875 \r\nL 34.71875 54.6875 \r\nL 34.71875 47.703125 \r\nL 19.921875 47.703125 \r\nL 19.921875 0 \r\nL 10.890625 0 \r\nL 10.890625 47.703125 \r\nL 2.296875 47.703125 \r\nL 2.296875 54.6875 \r\nL 10.890625 54.6875 \r\nL 10.890625 58.5 \r\nQ 10.890625 67.625 15.140625 71.796875 \r\nQ 19.390625 75.984375 28.609375 75.984375 \r\nz\r\n\" id=\"DejaVuSans-102\"/>\r\n      <path d=\"M 41.109375 46.296875 \r\nQ 39.59375 47.171875 37.8125 47.578125 \r\nQ 36.03125 48 33.890625 48 \r\nQ 26.265625 48 22.1875 43.046875 \r\nQ 18.109375 38.09375 18.109375 28.8125 \r\nL 18.109375 0 \r\nL 9.078125 0 \r\nL 9.078125 54.6875 \r\nL 18.109375 54.6875 \r\nL 18.109375 46.1875 \r\nQ 20.953125 51.171875 25.484375 53.578125 \r\nQ 30.03125 56 36.53125 56 \r\nQ 37.453125 56 38.578125 55.875 \r\nQ 39.703125 55.765625 41.0625 55.515625 \r\nz\r\n\" id=\"DejaVuSans-114\"/>\r\n      <path d=\"M 44.28125 53.078125 \r\nL 44.28125 44.578125 \r\nQ 40.484375 46.53125 36.375 47.5 \r\nQ 32.28125 48.484375 27.875 48.484375 \r\nQ 21.1875 48.484375 17.84375 46.4375 \r\nQ 14.5 44.390625 14.5 40.28125 \r\nQ 14.5 37.15625 16.890625 35.375 \r\nQ 19.28125 33.59375 26.515625 31.984375 \r\nL 29.59375 31.296875 \r\nQ 39.15625 29.25 43.1875 25.515625 \r\nQ 47.21875 21.78125 47.21875 15.09375 \r\nQ 47.21875 7.46875 41.1875 3.015625 \r\nQ 35.15625 -1.421875 24.609375 -1.421875 \r\nQ 20.21875 -1.421875 15.453125 -0.5625 \r\nQ 10.6875 0.296875 5.421875 2 \r\nL 5.421875 11.28125 \r\nQ 10.40625 8.6875 15.234375 7.390625 \r\nQ 20.0625 6.109375 24.8125 6.109375 \r\nQ 31.15625 6.109375 34.5625 8.28125 \r\nQ 37.984375 10.453125 37.984375 14.40625 \r\nQ 37.984375 18.0625 35.515625 20.015625 \r\nQ 33.0625 21.96875 24.703125 23.78125 \r\nL 21.578125 24.515625 \r\nQ 13.234375 26.265625 9.515625 29.90625 \r\nQ 5.8125 33.546875 5.8125 39.890625 \r\nQ 5.8125 47.609375 11.28125 51.796875 \r\nQ 16.75 56 26.8125 56 \r\nQ 31.78125 56 36.171875 55.265625 \r\nQ 40.578125 54.546875 44.28125 53.078125 \r\nz\r\n\" id=\"DejaVuSans-115\"/>\r\n      <path d=\"M 9.421875 54.6875 \r\nL 18.40625 54.6875 \r\nL 18.40625 0 \r\nL 9.421875 0 \r\nz\r\nM 9.421875 75.984375 \r\nL 18.40625 75.984375 \r\nL 18.40625 64.59375 \r\nL 9.421875 64.59375 \r\nz\r\n\" id=\"DejaVuSans-105\"/>\r\n      <path d=\"M 54.890625 33.015625 \r\nL 54.890625 0 \r\nL 45.90625 0 \r\nL 45.90625 32.71875 \r\nQ 45.90625 40.484375 42.875 44.328125 \r\nQ 39.84375 48.1875 33.796875 48.1875 \r\nQ 26.515625 48.1875 22.3125 43.546875 \r\nQ 18.109375 38.921875 18.109375 30.90625 \r\nL 18.109375 0 \r\nL 9.078125 0 \r\nL 9.078125 54.6875 \r\nL 18.109375 54.6875 \r\nL 18.109375 46.1875 \r\nQ 21.34375 51.125 25.703125 53.5625 \r\nQ 30.078125 56 35.796875 56 \r\nQ 45.21875 56 50.046875 50.171875 \r\nQ 54.890625 44.34375 54.890625 33.015625 \r\nz\r\n\" id=\"DejaVuSans-110\"/>\r\n      <path d=\"M 31 75.875 \r\nQ 24.46875 64.65625 21.28125 53.65625 \r\nQ 18.109375 42.671875 18.109375 31.390625 \r\nQ 18.109375 20.125 21.3125 9.0625 \r\nQ 24.515625 -2 31 -13.1875 \r\nL 23.1875 -13.1875 \r\nQ 15.875 -1.703125 12.234375 9.375 \r\nQ 8.59375 20.453125 8.59375 31.390625 \r\nQ 8.59375 42.28125 12.203125 53.3125 \r\nQ 15.828125 64.359375 23.1875 75.875 \r\nz\r\n\" id=\"DejaVuSans-40\"/>\r\n      <path d=\"M 54.890625 54.6875 \r\nL 35.109375 28.078125 \r\nL 55.90625 0 \r\nL 45.3125 0 \r\nL 29.390625 21.484375 \r\nL 13.484375 0 \r\nL 2.875 0 \r\nL 24.125 28.609375 \r\nL 4.6875 54.6875 \r\nL 15.28125 54.6875 \r\nL 29.78125 35.203125 \r\nL 44.28125 54.6875 \r\nz\r\n\" id=\"DejaVuSans-120\"/>\r\n      <path d=\"M 8.015625 75.875 \r\nL 15.828125 75.875 \r\nQ 23.140625 64.359375 26.78125 53.3125 \r\nQ 30.421875 42.28125 30.421875 31.390625 \r\nQ 30.421875 20.453125 26.78125 9.375 \r\nQ 23.140625 -1.703125 15.828125 -13.1875 \r\nL 8.015625 -13.1875 \r\nQ 14.5 -2 17.703125 9.0625 \r\nQ 20.90625 20.125 20.90625 31.390625 \r\nQ 20.90625 42.671875 17.703125 53.65625 \r\nQ 14.5 64.65625 8.015625 75.875 \r\nz\r\n\" id=\"DejaVuSans-41\"/>\r\n      <path d=\"M 46 62.703125 \r\nL 46 35.5 \r\nL 73.1875 35.5 \r\nL 73.1875 27.203125 \r\nL 46 27.203125 \r\nL 46 0 \r\nL 37.796875 0 \r\nL 37.796875 27.203125 \r\nL 10.59375 27.203125 \r\nL 10.59375 35.5 \r\nL 37.796875 35.5 \r\nL 37.796875 62.703125 \r\nz\r\n\" id=\"DejaVuSans-43\"/>\r\n      <path d=\"M 32.171875 -5.078125 \r\nQ 28.375 -14.84375 24.75 -17.8125 \r\nQ 21.140625 -20.796875 15.09375 -20.796875 \r\nL 7.90625 -20.796875 \r\nL 7.90625 -13.28125 \r\nL 13.1875 -13.28125 \r\nQ 16.890625 -13.28125 18.9375 -11.515625 \r\nQ 21 -9.765625 23.484375 -3.21875 \r\nL 25.09375 0.875 \r\nL 2.984375 54.6875 \r\nL 12.5 54.6875 \r\nL 29.59375 11.921875 \r\nL 46.6875 54.6875 \r\nL 56.203125 54.6875 \r\nz\r\n\" id=\"DejaVuSans-121\"/>\r\n     </defs>\r\n     <use xlink:href=\"#DejaVuSans-80\"/>\r\n     <use x=\"60.302734\" xlink:href=\"#DejaVuSans-108\"/>\r\n     <use x=\"88.085938\" xlink:href=\"#DejaVuSans-111\"/>\r\n     <use x=\"149.267578\" xlink:href=\"#DejaVuSans-116\"/>\r\n     <use x=\"188.476562\" xlink:href=\"#DejaVuSans-32\"/>\r\n     <use x=\"220.263672\" xlink:href=\"#DejaVuSans-102\"/>\r\n     <use x=\"255.46875\" xlink:href=\"#DejaVuSans-111\"/>\r\n     <use x=\"316.650391\" xlink:href=\"#DejaVuSans-114\"/>\r\n     <use x=\"357.763672\" xlink:href=\"#DejaVuSans-32\"/>\r\n     <use x=\"389.550781\" xlink:href=\"#DejaVuSans-115\"/>\r\n     <use x=\"441.650391\" xlink:href=\"#DejaVuSans-105\"/>\r\n     <use x=\"469.433594\" xlink:href=\"#DejaVuSans-110\"/>\r\n     <use x=\"532.8125\" xlink:href=\"#DejaVuSans-40\"/>\r\n     <use x=\"571.826172\" xlink:href=\"#DejaVuSans-120\"/>\r\n     <use x=\"631.005859\" xlink:href=\"#DejaVuSans-41\"/>\r\n     <use x=\"670.019531\" xlink:href=\"#DejaVuSans-43\"/>\r\n     <use x=\"753.808594\" xlink:href=\"#DejaVuSans-115\"/>\r\n     <use x=\"805.908203\" xlink:href=\"#DejaVuSans-105\"/>\r\n     <use x=\"833.691406\" xlink:href=\"#DejaVuSans-110\"/>\r\n     <use x=\"897.070312\" xlink:href=\"#DejaVuSans-40\"/>\r\n     <use x=\"936.083984\" xlink:href=\"#DejaVuSans-121\"/>\r\n     <use x=\"995.263672\" xlink:href=\"#DejaVuSans-41\"/>\r\n    </g>\r\n   </g>\r\n  </g>\r\n  <g id=\"axes_2\">\r\n   <g id=\"patch_7\">\r\n    <path clip-path=\"url(#p4883058bff)\" d=\"M 267.4675 239.758125 \r\nL 267.4675 238.90875 \r\nL 267.4675 23.1675 \r\nL 267.4675 22.318125 \r\nL 278.3395 22.318125 \r\nL 278.3395 23.1675 \r\nL 278.3395 238.90875 \r\nL 278.3395 239.758125 \r\nz\r\n\" style=\"fill:#ffffff;stroke:#ffffff;stroke-linejoin:miter;stroke-width:0.01;\"/>\r\n   </g>\r\n   <image height=\"217\" id=\"image1d6518d9ab\" transform=\"scale(1 -1)translate(0 -217)\" width=\"11\" x=\"267\" xlink:href=\"data:image/png;base64,\r\niVBORw0KGgoAAAANSUhEUgAAAAsAAADZCAYAAAD2WsoCAAABSElEQVR4nN2awQ0CMQwEYztHZdRA/41AaMHzGMl3vK3V7qxD0HHxzs9Zzc+OjO7s2iuyP8yUq4gNoBwJPCPlpSkHosEa1IaHcBZpaDZEdBaNw2y0Z00aomftWJ2a0WB/1gx4NBsooLdIhxxYjwZUBsNwn4nyHWmIdSMbmrJGw9wNS9nkfEN0M7ZuirJHoz+LL3piA92Dmo3n1/14dDcM6NW9on++x6C7Hw3gmAcEnr1SRM4zaICfSG4pXsARyuA5GaTBbMxAl2JAi4bnOZMMezaWha7yB2x4AUUaYHhrNLyAng1GQ/RslbKZMhgusW6LxhVfSRnSsAIWUb6S0CANlrd1xAasG9kY0SDizGgwG1ZAVMpLDKjthnasrgVowIDWPciWn30VeAHbs1S5L7z2i/zdgJSLKYPhIsNI+Qrwug7zTN45SfCQ6g9eiIFo/nbsswAAAABJRU5ErkJggg==\" y=\"-22\"/>\r\n   <g id=\"matplotlib.axis_3\"/>\r\n   <g id=\"matplotlib.axis_4\">\r\n    <g id=\"ytick_6\">\r\n     <g id=\"line2d_11\">\r\n      <defs>\r\n       <path d=\"M 0 0 \r\nL 3.5 0 \r\n\" id=\"m3c3a3d7287\" style=\"stroke:#000000;stroke-width:0.8;\"/>\r\n      </defs>\r\n      <g>\r\n       <use style=\"stroke:#000000;stroke-width:0.8;\" x=\"278.3395\" xlink:href=\"#m3c3a3d7287\" y=\"212.578151\"/>\r\n      </g>\r\n     </g>\r\n     <g id=\"text_12\">\r\n      <!-- −1.5 -->\r\n      <g transform=\"translate(285.3395 216.37737)scale(0.1 -0.1)\">\r\n       <defs>\r\n        <path d=\"M 10.59375 35.5 \r\nL 73.1875 35.5 \r\nL 73.1875 27.203125 \r\nL 10.59375 27.203125 \r\nz\r\n\" id=\"DejaVuSans-8722\"/>\r\n        <path d=\"M 12.40625 8.296875 \r\nL 28.515625 8.296875 \r\nL 28.515625 63.921875 \r\nL 10.984375 60.40625 \r\nL 10.984375 69.390625 \r\nL 28.421875 72.90625 \r\nL 38.28125 72.90625 \r\nL 38.28125 8.296875 \r\nL 54.390625 8.296875 \r\nL 54.390625 0 \r\nL 12.40625 0 \r\nz\r\n\" id=\"DejaVuSans-49\"/>\r\n        <path d=\"M 10.6875 12.40625 \r\nL 21 12.40625 \r\nL 21 0 \r\nL 10.6875 0 \r\nz\r\n\" id=\"DejaVuSans-46\"/>\r\n        <path d=\"M 10.796875 72.90625 \r\nL 49.515625 72.90625 \r\nL 49.515625 64.59375 \r\nL 19.828125 64.59375 \r\nL 19.828125 46.734375 \r\nQ 21.96875 47.46875 24.109375 47.828125 \r\nQ 26.265625 48.1875 28.421875 48.1875 \r\nQ 40.625 48.1875 47.75 41.5 \r\nQ 54.890625 34.8125 54.890625 23.390625 \r\nQ 54.890625 11.625 47.5625 5.09375 \r\nQ 40.234375 -1.421875 26.90625 -1.421875 \r\nQ 22.3125 -1.421875 17.546875 -0.640625 \r\nQ 12.796875 0.140625 7.71875 1.703125 \r\nL 7.71875 11.625 \r\nQ 12.109375 9.234375 16.796875 8.0625 \r\nQ 21.484375 6.890625 26.703125 6.890625 \r\nQ 35.15625 6.890625 40.078125 11.328125 \r\nQ 45.015625 15.765625 45.015625 23.390625 \r\nQ 45.015625 31 40.078125 35.4375 \r\nQ 35.15625 39.890625 26.703125 39.890625 \r\nQ 22.75 39.890625 18.8125 39.015625 \r\nQ 14.890625 38.140625 10.796875 36.28125 \r\nz\r\n\" id=\"DejaVuSans-53\"/>\r\n       </defs>\r\n       <use xlink:href=\"#DejaVuSans-8722\"/>\r\n       <use x=\"83.789062\" xlink:href=\"#DejaVuSans-49\"/>\r\n       <use x=\"147.412109\" xlink:href=\"#DejaVuSans-46\"/>\r\n       <use x=\"179.199219\" xlink:href=\"#DejaVuSans-53\"/>\r\n      </g>\r\n     </g>\r\n    </g>\r\n    <g id=\"ytick_7\">\r\n     <g id=\"line2d_12\">\r\n      <g>\r\n       <use style=\"stroke:#000000;stroke-width:0.8;\" x=\"278.3395\" xlink:href=\"#m3c3a3d7287\" y=\"185.398142\"/>\r\n      </g>\r\n     </g>\r\n     <g id=\"text_13\">\r\n      <!-- −1.0 -->\r\n      <g transform=\"translate(285.3395 189.197361)scale(0.1 -0.1)\">\r\n       <use xlink:href=\"#DejaVuSans-8722\"/>\r\n       <use x=\"83.789062\" xlink:href=\"#DejaVuSans-49\"/>\r\n       <use x=\"147.412109\" xlink:href=\"#DejaVuSans-46\"/>\r\n       <use x=\"179.199219\" xlink:href=\"#DejaVuSans-48\"/>\r\n      </g>\r\n     </g>\r\n    </g>\r\n    <g id=\"ytick_8\">\r\n     <g id=\"line2d_13\">\r\n      <g>\r\n       <use style=\"stroke:#000000;stroke-width:0.8;\" x=\"278.3395\" xlink:href=\"#m3c3a3d7287\" y=\"158.218134\"/>\r\n      </g>\r\n     </g>\r\n     <g id=\"text_14\">\r\n      <!-- −0.5 -->\r\n      <g transform=\"translate(285.3395 162.017352)scale(0.1 -0.1)\">\r\n       <use xlink:href=\"#DejaVuSans-8722\"/>\r\n       <use x=\"83.789062\" xlink:href=\"#DejaVuSans-48\"/>\r\n       <use x=\"147.412109\" xlink:href=\"#DejaVuSans-46\"/>\r\n       <use x=\"179.199219\" xlink:href=\"#DejaVuSans-53\"/>\r\n      </g>\r\n     </g>\r\n    </g>\r\n    <g id=\"ytick_9\">\r\n     <g id=\"line2d_14\">\r\n      <g>\r\n       <use style=\"stroke:#000000;stroke-width:0.8;\" x=\"278.3395\" xlink:href=\"#m3c3a3d7287\" y=\"131.038125\"/>\r\n      </g>\r\n     </g>\r\n     <g id=\"text_15\">\r\n      <!-- 0.0 -->\r\n      <g transform=\"translate(285.3395 134.837344)scale(0.1 -0.1)\">\r\n       <use xlink:href=\"#DejaVuSans-48\"/>\r\n       <use x=\"63.623047\" xlink:href=\"#DejaVuSans-46\"/>\r\n       <use x=\"95.410156\" xlink:href=\"#DejaVuSans-48\"/>\r\n      </g>\r\n     </g>\r\n    </g>\r\n    <g id=\"ytick_10\">\r\n     <g id=\"line2d_15\">\r\n      <g>\r\n       <use style=\"stroke:#000000;stroke-width:0.8;\" x=\"278.3395\" xlink:href=\"#m3c3a3d7287\" y=\"103.858116\"/>\r\n      </g>\r\n     </g>\r\n     <g id=\"text_16\">\r\n      <!-- 0.5 -->\r\n      <g transform=\"translate(285.3395 107.657335)scale(0.1 -0.1)\">\r\n       <use xlink:href=\"#DejaVuSans-48\"/>\r\n       <use x=\"63.623047\" xlink:href=\"#DejaVuSans-46\"/>\r\n       <use x=\"95.410156\" xlink:href=\"#DejaVuSans-53\"/>\r\n      </g>\r\n     </g>\r\n    </g>\r\n    <g id=\"ytick_11\">\r\n     <g id=\"line2d_16\">\r\n      <g>\r\n       <use style=\"stroke:#000000;stroke-width:0.8;\" x=\"278.3395\" xlink:href=\"#m3c3a3d7287\" y=\"76.678108\"/>\r\n      </g>\r\n     </g>\r\n     <g id=\"text_17\">\r\n      <!-- 1.0 -->\r\n      <g transform=\"translate(285.3395 80.477327)scale(0.1 -0.1)\">\r\n       <use xlink:href=\"#DejaVuSans-49\"/>\r\n       <use x=\"63.623047\" xlink:href=\"#DejaVuSans-46\"/>\r\n       <use x=\"95.410156\" xlink:href=\"#DejaVuSans-48\"/>\r\n      </g>\r\n     </g>\r\n    </g>\r\n    <g id=\"ytick_12\">\r\n     <g id=\"line2d_17\">\r\n      <g>\r\n       <use style=\"stroke:#000000;stroke-width:0.8;\" x=\"278.3395\" xlink:href=\"#m3c3a3d7287\" y=\"49.498099\"/>\r\n      </g>\r\n     </g>\r\n     <g id=\"text_18\">\r\n      <!-- 1.5 -->\r\n      <g transform=\"translate(285.3395 53.297318)scale(0.1 -0.1)\">\r\n       <use xlink:href=\"#DejaVuSans-49\"/>\r\n       <use x=\"63.623047\" xlink:href=\"#DejaVuSans-46\"/>\r\n       <use x=\"95.410156\" xlink:href=\"#DejaVuSans-53\"/>\r\n      </g>\r\n     </g>\r\n    </g>\r\n   </g>\r\n   <g id=\"patch_8\">\r\n    <path d=\"M 267.4675 239.758125 \r\nL 267.4675 238.90875 \r\nL 267.4675 23.1675 \r\nL 267.4675 22.318125 \r\nL 278.3395 22.318125 \r\nL 278.3395 23.1675 \r\nL 278.3395 238.90875 \r\nL 278.3395 239.758125 \r\nz\r\n\" style=\"fill:none;stroke:#000000;stroke-linejoin:miter;stroke-width:0.8;\"/>\r\n   </g>\r\n  </g>\r\n </g>\r\n <defs>\r\n  <clipPath id=\"p0200418bcb\">\r\n   <rect height=\"217.44\" width=\"217.44\" x=\"33.2875\" y=\"22.318125\"/>\r\n  </clipPath>\r\n  <clipPath id=\"p4883058bff\">\r\n   <rect height=\"217.44\" width=\"10.872\" x=\"267.4675\" y=\"22.318125\"/>\r\n  </clipPath>\r\n </defs>\r\n</svg>\r\n",
      "image/png": "[encoded data removed]"
     },
     "metadata": {
      "needs_background": "light"
     }
    }
   ],
   "source": [
    "plt.imshow(z)\n",
    "plt.colorbar()\n",
    "plt.title('Plot for sin(x)+sin(y)')"
   ]
  },
  {
   "source": [
    "### Numpy where"
   ],
   "cell_type": "markdown",
   "metadata": {}
  },
  {
   "cell_type": "code",
   "execution_count": 20,
   "metadata": {},
   "outputs": [],
   "source": [
    "A = np.array([1, 2, 3, 4])\n",
    "B = np.array([100, 200, 300, 400])"
   ]
  },
  {
   "cell_type": "code",
   "execution_count": 22,
   "metadata": {},
   "outputs": [],
   "source": [
    "condition = np.array([True, True, False, False])"
   ]
  },
  {
   "cell_type": "code",
   "execution_count": 28,
   "metadata": {},
   "outputs": [
    {
     "output_type": "execute_result",
     "data": {
      "text/plain": [
       "[(1, 100, True), (2, 200, True), (3, 300, False), (4, 400, False)]"
      ]
     },
     "metadata": {},
     "execution_count": 28
    }
   ],
   "source": [
    "zipped = zip(A, B, condition)\n",
    "list(zipped)"
   ]
  },
  {
   "cell_type": "code",
   "execution_count": 30,
   "metadata": {},
   "outputs": [
    {
     "output_type": "execute_result",
     "data": {
      "text/plain": [
       "[1, 2, 300, 400]"
      ]
     },
     "metadata": {},
     "execution_count": 30
    }
   ],
   "source": [
    "answer = [(A_val if cond else B_val) for A_val, B_val, cond in zip(A, B, condition)]\n",
    "answer"
   ]
  },
  {
   "cell_type": "code",
   "execution_count": 31,
   "metadata": {},
   "outputs": [
    {
     "output_type": "execute_result",
     "data": {
      "text/plain": [
       "array([  1,   2, 300, 400])"
      ]
     },
     "metadata": {},
     "execution_count": 31
    }
   ],
   "source": [
    "answer2 = np.where(condition, A, B)\n",
    "answer2"
   ]
  },
  {
   "cell_type": "code",
   "execution_count": 32,
   "metadata": {},
   "outputs": [
    {
     "output_type": "execute_result",
     "data": {
      "text/plain": [
       "array([[ 0.22172388,  0.71693477,  0.26175622, -1.31093975, -3.0054799 ],\n",
       "       [ 0.02651797, -1.20481697, -2.36249358,  0.53511717, -1.29057759],\n",
       "       [ 0.93701887,  0.33672254, -0.58385779,  2.12747   ,  0.41168183],\n",
       "       [ 0.35494941, -0.09698125, -0.53036265,  0.2882605 ,  0.95065556],\n",
       "       [-0.68917396,  0.5920727 ,  0.77611367, -1.08237402, -1.05683444]])"
      ]
     },
     "metadata": {},
     "execution_count": 32
    }
   ],
   "source": [
    "arr = np.random.randn(5, 5)\n",
    "arr"
   ]
  },
  {
   "cell_type": "code",
   "execution_count": 33,
   "metadata": {},
   "outputs": [
    {
     "output_type": "execute_result",
     "data": {
      "text/plain": [
       "array([[0.22172388, 0.71693477, 0.26175622, 0.        , 0.        ],\n",
       "       [0.02651797, 0.        , 0.        , 0.53511717, 0.        ],\n",
       "       [0.93701887, 0.33672254, 0.        , 2.12747   , 0.41168183],\n",
       "       [0.35494941, 0.        , 0.        , 0.2882605 , 0.95065556],\n",
       "       [0.        , 0.5920727 , 0.77611367, 0.        , 0.        ]])"
      ]
     },
     "metadata": {},
     "execution_count": 33
    }
   ],
   "source": [
    "np.where(arr < 0, 0, arr)"
   ]
  },
  {
   "cell_type": "code",
   "execution_count": 34,
   "metadata": {},
   "outputs": [
    {
     "output_type": "execute_result",
     "data": {
      "text/plain": [
       "array([[1, 2, 3],\n",
       "       [4, 5, 6],\n",
       "       [7, 8, 9]])"
      ]
     },
     "metadata": {},
     "execution_count": 34
    }
   ],
   "source": [
    "arr = np.array([[1, 2, 3], [4, 5, 6], [7, 8, 9]])\n",
    "arr"
   ]
  },
  {
   "cell_type": "code",
   "execution_count": 35,
   "metadata": {},
   "outputs": [
    {
     "output_type": "execute_result",
     "data": {
      "text/plain": [
       "45"
      ]
     },
     "metadata": {},
     "execution_count": 35
    }
   ],
   "source": [
    "arr.sum()"
   ]
  },
  {
   "cell_type": "code",
   "execution_count": 36,
   "metadata": {},
   "outputs": [
    {
     "output_type": "execute_result",
     "data": {
      "text/plain": [
       "array([12, 15, 18])"
      ]
     },
     "metadata": {},
     "execution_count": 36
    }
   ],
   "source": [
    "arr.sum(0) # axis = 0, column"
   ]
  },
  {
   "cell_type": "code",
   "execution_count": 37,
   "metadata": {},
   "outputs": [
    {
     "output_type": "execute_result",
     "data": {
      "text/plain": [
       "array([ 6, 15, 24])"
      ]
     },
     "metadata": {},
     "execution_count": 37
    }
   ],
   "source": [
    "arr.sum(1) # axis = 1, row"
   ]
  },
  {
   "cell_type": "code",
   "execution_count": 38,
   "metadata": {},
   "outputs": [
    {
     "output_type": "execute_result",
     "data": {
      "text/plain": [
       "5.0"
      ]
     },
     "metadata": {},
     "execution_count": 38
    }
   ],
   "source": [
    "arr.mean()"
   ]
  },
  {
   "cell_type": "code",
   "execution_count": 39,
   "metadata": {},
   "outputs": [
    {
     "output_type": "execute_result",
     "data": {
      "text/plain": [
       "2.581988897471611"
      ]
     },
     "metadata": {},
     "execution_count": 39
    }
   ],
   "source": [
    "arr.std() # standard deviation"
   ]
  },
  {
   "cell_type": "code",
   "execution_count": 40,
   "metadata": {},
   "outputs": [
    {
     "output_type": "execute_result",
     "data": {
      "text/plain": [
       "6.666666666666667"
      ]
     },
     "metadata": {},
     "execution_count": 40
    }
   ],
   "source": [
    "arr.var() # variants"
   ]
  },
  {
   "cell_type": "code",
   "execution_count": 48,
   "metadata": {},
   "outputs": [],
   "source": [
    "bool_arr = np.array([True, False, True, False])"
   ]
  },
  {
   "cell_type": "code",
   "execution_count": 49,
   "metadata": {},
   "outputs": [
    {
     "output_type": "execute_result",
     "data": {
      "text/plain": [
       "True"
      ]
     },
     "metadata": {},
     "execution_count": 49
    }
   ],
   "source": [
    "bool_arr.any() # returns True if any index is True, else False"
   ]
  },
  {
   "cell_type": "code",
   "execution_count": 43,
   "metadata": {},
   "outputs": [
    {
     "output_type": "execute_result",
     "data": {
      "text/plain": [
       "False"
      ]
     },
     "metadata": {},
     "execution_count": 43
    }
   ],
   "source": [
    "bool_arr.all() # returns True if all index are True, else False"
   ]
  },
  {
   "source": [
    "### Array Sort"
   ],
   "cell_type": "markdown",
   "metadata": {}
  },
  {
   "cell_type": "code",
   "execution_count": 50,
   "metadata": {},
   "outputs": [
    {
     "output_type": "execute_result",
     "data": {
      "text/plain": [
       "array([ 1.21397603, -1.52117603,  0.92147455, -0.12021825, -1.09725759])"
      ]
     },
     "metadata": {},
     "execution_count": 50
    }
   ],
   "source": [
    "arr = np.random.randn(5)\n",
    "arr"
   ]
  },
  {
   "cell_type": "code",
   "execution_count": 52,
   "metadata": {},
   "outputs": [
    {
     "output_type": "execute_result",
     "data": {
      "text/plain": [
       "array([-1.52117603, -1.09725759, -0.12021825,  0.92147455,  1.21397603])"
      ]
     },
     "metadata": {},
     "execution_count": 52
    }
   ],
   "source": [
    "arr.sort()\n",
    "arr"
   ]
  },
  {
   "cell_type": "code",
   "execution_count": 54,
   "metadata": {},
   "outputs": [
    {
     "output_type": "execute_result",
     "data": {
      "text/plain": [
       "array(['India', 'Pakistan', 'China', 'India', 'USA', 'Bangladesh',\n",
       "       'Bhutan', 'China'], dtype='<U10')"
      ]
     },
     "metadata": {},
     "execution_count": 54
    }
   ],
   "source": [
    "countries = np.array(['India', 'Pakistan', 'China', 'India', 'USA', 'Bangladesh', 'Bhutan', 'China'])\n",
    "countries"
   ]
  },
  {
   "cell_type": "code",
   "execution_count": 55,
   "metadata": {},
   "outputs": [
    {
     "output_type": "execute_result",
     "data": {
      "text/plain": [
       "array(['Bangladesh', 'Bhutan', 'China', 'India', 'Pakistan', 'USA'],\n",
       "      dtype='<U10')"
      ]
     },
     "metadata": {},
     "execution_count": 55
    }
   ],
   "source": [
    "np.unique(countries)"
   ]
  },
  {
   "cell_type": "code",
   "execution_count": 57,
   "metadata": {},
   "outputs": [
    {
     "output_type": "execute_result",
     "data": {
      "text/plain": [
       "array([ True,  True, False])"
      ]
     },
     "metadata": {},
     "execution_count": 57
    }
   ],
   "source": [
    "np.in1d(['India', 'USA', 'Japan'], countries)"
   ]
  },
  {
   "source": [
    "## Array Input and Output"
   ],
   "cell_type": "markdown",
   "metadata": {}
  },
  {
   "cell_type": "code",
   "execution_count": 58,
   "metadata": {},
   "outputs": [
    {
     "output_type": "execute_result",
     "data": {
      "text/plain": [
       "array([0, 1, 2, 3, 4])"
      ]
     },
     "metadata": {},
     "execution_count": 58
    }
   ],
   "source": [
    "arr = np.arange(5)\n",
    "arr"
   ]
  },
  {
   "cell_type": "code",
   "execution_count": 59,
   "metadata": {},
   "outputs": [],
   "source": [
    "np.save('myarr', arr) # save array in file myarr.npy"
   ]
  },
  {
   "cell_type": "code",
   "execution_count": 60,
   "metadata": {},
   "outputs": [
    {
     "output_type": "execute_result",
     "data": {
      "text/plain": [
       "array([0, 1, 2, 3, 4, 5, 6, 7, 8, 9])"
      ]
     },
     "metadata": {},
     "execution_count": 60
    }
   ],
   "source": [
    "arr = np.arange(10)\n",
    "arr"
   ]
  },
  {
   "cell_type": "code",
   "execution_count": 62,
   "metadata": {},
   "outputs": [
    {
     "output_type": "execute_result",
     "data": {
      "text/plain": [
       "array([0, 1, 2, 3, 4])"
      ]
     },
     "metadata": {},
     "execution_count": 62
    }
   ],
   "source": [
    "np.load('myarr.npy')"
   ]
  },
  {
   "cell_type": "code",
   "execution_count": 63,
   "metadata": {},
   "outputs": [
    {
     "output_type": "execute_result",
     "data": {
      "text/plain": [
       "array([0, 1, 2, 3, 4])"
      ]
     },
     "metadata": {},
     "execution_count": 63
    }
   ],
   "source": [
    "arr1 = np.load('myarr.npy')\n",
    "arr1"
   ]
  },
  {
   "cell_type": "code",
   "execution_count": 64,
   "metadata": {},
   "outputs": [],
   "source": [
    "np.savez('zipped.npz', x = arr, y = arr1)"
   ]
  },
  {
   "cell_type": "code",
   "execution_count": 65,
   "metadata": {},
   "outputs": [],
   "source": [
    "archive_arr = np.load('zipped.npz')"
   ]
  },
  {
   "cell_type": "code",
   "execution_count": 66,
   "metadata": {},
   "outputs": [
    {
     "output_type": "execute_result",
     "data": {
      "text/plain": [
       "array([0, 1, 2, 3, 4, 5, 6, 7, 8, 9])"
      ]
     },
     "metadata": {},
     "execution_count": 66
    }
   ],
   "source": [
    "archive_arr['x']"
   ]
  },
  {
   "cell_type": "code",
   "execution_count": 67,
   "metadata": {},
   "outputs": [
    {
     "output_type": "execute_result",
     "data": {
      "text/plain": [
       "array([0, 1, 2, 3, 4])"
      ]
     },
     "metadata": {},
     "execution_count": 67
    }
   ],
   "source": [
    "archive_arr['y']"
   ]
  },
  {
   "cell_type": "code",
   "execution_count": 68,
   "metadata": {},
   "outputs": [
    {
     "output_type": "execute_result",
     "data": {
      "text/plain": [
       "array([[1, 2, 3],\n",
       "       [4, 5, 6]])"
      ]
     },
     "metadata": {},
     "execution_count": 68
    }
   ],
   "source": [
    "arr = np.array([[1, 2, 3], [4, 5, 6]])\n",
    "arr"
   ]
  },
  {
   "cell_type": "code",
   "execution_count": 69,
   "metadata": {},
   "outputs": [],
   "source": [
    "np.savetxt('mytextarr.txt', arr, delimiter=',')"
   ]
  },
  {
   "cell_type": "code",
   "execution_count": 70,
   "metadata": {},
   "outputs": [
    {
     "output_type": "execute_result",
     "data": {
      "text/plain": [
       "array([[1., 2., 3.],\n",
       "       [4., 5., 6.]])"
      ]
     },
     "metadata": {},
     "execution_count": 70
    }
   ],
   "source": [
    "np.loadtxt('mytextarr.txt', delimiter=',')"
   ]
  },
  {
   "cell_type": "code",
   "execution_count": null,
   "metadata": {},
   "outputs": [],
   "source": []
  }
 ]
}